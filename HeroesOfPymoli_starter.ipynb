{
 "cells": [
  {
   "cell_type": "markdown",
   "metadata": {},
   "source": [
    "### Note\n",
    "* Instructions have been included for each segment. You do not have to follow them exactly, but they are included to help you think through the steps."
   ]
  },
  {
   "cell_type": "code",
   "execution_count": null,
   "metadata": {},
   "outputs": [],
   "source": [
    "# Dependencies and Setup\n",
    "import pandas as pd\n",
    "import numpy as np\n",
    "# File to Load (Remember to Change These)\n",
    "file_to_load = \"Resources/purchase_data.csv\"\n",
    "\n",
    "# Read Purchasing File and store into Pandas data frame\n",
    "purchase_data = pd.read_csv(file_to_load)"
   ]
  },
  {
   "cell_type": "markdown",
   "metadata": {},
   "source": [
    "## Player Count"
   ]
  },
  {
   "cell_type": "code",
   "execution_count": null,
   "metadata": {},
   "outputs": [],
   "source": [
    "# Take a look at the data\n",
    "df= pd.DataFrame(purchase_data)\n",
    "df.head()"
   ]
  },
  {
   "cell_type": "markdown",
   "metadata": {},
   "source": [
    "* Display the total number of players\n"
   ]
  },
  {
   "cell_type": "code",
   "execution_count": null,
   "metadata": {},
   "outputs": [],
   "source": [
    "# Determine number of unique players \n",
    "total = purchase_data [\"SN\"].nunique()\n",
    "summary =[ {\"Total Players\" : total}]\n",
    "pd.DataFrame(summary)\n"
   ]
  },
  {
   "cell_type": "markdown",
   "metadata": {},
   "source": [
    "## Purchasing Analysis (Total)"
   ]
  },
  {
   "cell_type": "markdown",
   "metadata": {},
   "source": [
    "* Run basic calculations to obtain number of unique items, average price, etc.\n",
    "\n",
    "\n",
    "* Create a summary data frame to hold the results\n",
    "\n",
    "\n",
    "* Optional: give the displayed data cleaner formatting\n",
    "\n",
    "\n",
    "* Display the summary data frame\n"
   ]
  },
  {
   "cell_type": "code",
   "execution_count": null,
   "metadata": {},
   "outputs": [],
   "source": [
    "# Look for interesting facts about the data\n",
    "unnique_items = purchase_data [\"Item ID\"].nunique()\n",
    "average_price  =  purchase_data [\"Price\"].mean()\n",
    "number_of_purchases = purchase_data['Price'].count()\n",
    "total_revenue = purchase_data['Price'].sum()\n"
   ]
  },
  {
   "cell_type": "code",
   "execution_count": null,
   "metadata": {},
   "outputs": [],
   "source": [
    "# Store facts in a list & print \n",
    "summary =[ {\"Number of unique Items\" : unnique_items, \"Average Price\" :average_price,  \"Number of Purchases\" : number_of_purchases, \"Total Revenue\" : total_revenue } ]\n",
    "summary_df = pd.DataFrame(summary)\n",
    "summary_df['Average Price']=summary_df['Average Price'].map('${:,.2f}'.format)\n",
    "\n",
    "summary_df\n"
   ]
  },
  {
   "cell_type": "markdown",
   "metadata": {},
   "source": [
    "## Gender Demographics"
   ]
  },
  {
   "cell_type": "markdown",
   "metadata": {},
   "source": [
    "* Percentage and Count of Male Players\n",
    "\n",
    "\n",
    "* Percentage and Count of Female Players\n",
    "\n",
    "\n",
    "* Percentage and Count of Other / Non-Disclosed\n",
    "\n",
    "\n"
   ]
  },
  {
   "cell_type": "code",
   "execution_count": null,
   "metadata": {},
   "outputs": [],
   "source": [
    "# Determine the gender of each player & remove duplicates, cleaning the data\n",
    "df_sn_gender = df[[\"SN\",\"Gender\"]]\n",
    "df_sn_gender=df_sn_gender.drop_duplicates()\n",
    "df_sn_gender.head()\n"
   ]
  },
  {
   "cell_type": "code",
   "execution_count": null,
   "metadata": {
    "scrolled": true
   },
   "outputs": [],
   "source": [
    "# Find the total number of players\n",
    "print(f\"Number of Players: {purchase_data ['Gender'].count()}\")"
   ]
  },
  {
   "cell_type": "code",
   "execution_count": null,
   "metadata": {},
   "outputs": [],
   "source": [
    "# Find the number of male players \n",
    "male = df_sn_gender.loc[df_sn_gender[\"Gender\"] == \"Male\"].count().max()\n",
    "gender_group = df_sn_gender.groupby('Gender').agg({'SN':'nunique'})"
   ]
  },
  {
   "cell_type": "code",
   "execution_count": null,
   "metadata": {},
   "outputs": [],
   "source": [
    "female = df_sn_gender.loc[df_sn_gender[\"Gender\"] == \"Female\"].count().max()"
   ]
  },
  {
   "cell_type": "code",
   "execution_count": null,
   "metadata": {},
   "outputs": [],
   "source": [
    "other = df_sn_gender.loc[(df_sn_gender[\"Gender\"] != \"Female\") & (df_sn_gender[\"Gender\"] != \"Male\")].count().max()"
   ]
  },
  {
   "cell_type": "code",
   "execution_count": null,
   "metadata": {},
   "outputs": [],
   "source": [
    "total = male + female + other \n",
    "totals_list = [{\"gender\":\"Male\",\"Total Count\": male, \"Percentage of Players\": (male/total)*100},{\"gender\":\"Female\",\"Total Count\": female, \"Percentage of Players\" : (female/total)*100},\n",
    "                                  {\"gender\":\"Other / Non-Disclosed\",\"Total Count\": other, \"Percentage of Players\" : (other/total)*100}]\n",
    "   \n",
    "total_df = pd.DataFrame(totals_list).set_index('gender')\n",
    "total_df.rename_axis(None)\n"
   ]
  },
  {
   "cell_type": "markdown",
   "metadata": {},
   "source": [
    "\n",
    "## Purchasing Analysis (Gender)"
   ]
  },
  {
   "cell_type": "markdown",
   "metadata": {},
   "source": [
    "* Run basic calculations to obtain purchase count, avg. purchase price, avg. purchase total per person etc. by gender\n",
    "\n",
    "\n",
    "\n",
    "\n",
    "* Create a summary data frame to hold the results\n",
    "\n",
    "\n",
    "* Optional: give the displayed data cleaner formatting\n",
    "\n",
    "\n",
    "* Display the summary data frame"
   ]
  },
  {
   "cell_type": "code",
   "execution_count": null,
   "metadata": {},
   "outputs": [],
   "source": [
    "gender_purchases = df.groupby(\"Gender\").agg({\"SN\":\"count\"})\n",
    "#gender_analysis = gender_purchases.agg({\"SN\":\"count\"}  , {\"Price\":\"mean\"} , {\"Price\":\"sum\"})\n",
    "#pd.DataFrame(gender_analysis)\n"
   ]
  },
  {
   "cell_type": "code",
   "execution_count": null,
   "metadata": {},
   "outputs": [],
   "source": [
    "gender_mean= df.groupby(\"Gender\").agg({\"Price\":\"mean\"})        \n",
    "gm=gender_mean.rename (columns ={'Price' : 'Average Purchase Price'})\n"
   ]
  },
  {
   "cell_type": "code",
   "execution_count": null,
   "metadata": {
    "scrolled": true
   },
   "outputs": [],
   "source": [
    "gender_count = df.groupby(\"Gender\").agg({\"Price\":\"count\"})\n",
    "gc = gender_count.rename (columns ={'Price' : 'Purchase Count'})"
   ]
  },
  {
   "cell_type": "code",
   "execution_count": null,
   "metadata": {},
   "outputs": [],
   "source": [
    "gender_sum = df.groupby(\"Gender\").agg({\"Price\":\"sum\"})\n",
    "gs= gender_sum.rename (columns ={'Price' : 'Total Purchase Value'})\n"
   ]
  },
  {
   "cell_type": "code",
   "execution_count": null,
   "metadata": {},
   "outputs": [],
   "source": [
    "# Avg Total Purchase per Person divide the total purchase over the number of playes \n"
   ]
  },
  {
   "cell_type": "code",
   "execution_count": null,
   "metadata": {},
   "outputs": [],
   "source": [
    "gender_analysis = pd.merge(gender_purchases,gm, on = \"Gender\" ) \n",
    "#df= Mouse_Study_combined_df = pd.merge(study_results, mouse_metadata, on=\"Mouse ID\")\n",
    "gender_analysis2 = pd.merge(gc,gs, on = \"Gender\" ) \n",
    "gender_final=pd.merge(gender_analysis,gender_analysis2, on = \"Gender\" )\n",
    "gender_final[\"Count\"] = gender_group[\"SN\"]\n",
    "gender_final[ \"Avg Total Purchase per Person\"]= gender_final[\"Total Purchase Value\"]/gender_final[\"Count\"]\n",
    "del gender_final[\"Count\"]\n",
    "del gender_final[\"Purchase Count\"]\n",
    "gender_final\n"
   ]
  },
  {
   "cell_type": "markdown",
   "metadata": {},
   "source": [
    "# notes \n"
   ]
  },
  {
   "cell_type": "markdown",
   "metadata": {},
   "source": [
    "## Age Demographics"
   ]
  },
  {
   "cell_type": "markdown",
   "metadata": {},
   "source": [
    "* Establish bins for ages\n",
    "\n",
    "\n",
    "* Categorize the existing players using the age bins. Hint: use pd.cut()\n",
    "\n",
    "\n",
    "* Calculate the numbers and percentages by age group\n",
    "\n",
    "\n",
    "* Create a summary data frame to hold the results\n",
    "\n",
    "\n",
    "* Optional: round the percentage column to two decimal points\n",
    "\n",
    "\n",
    "* Display Age Demographics Table\n"
   ]
  },
  {
   "cell_type": "code",
   "execution_count": null,
   "metadata": {},
   "outputs": [],
   "source": [
    "# Create the bins in which Data will be held\n",
    "\n",
    "bins =[ 0, 9, 14, 19, 24, 29, 34, 39, 100]   \n",
    "\n",
    "\n",
    "# Create the names for the bins\n",
    "age_groups = [\"< 10\", \"10-14\", \"15-19\", \"20-24\", \"25-29\", \"30-34\", \"35-39\", \"40+\"]\n"
   ]
  },
  {
   "cell_type": "code",
   "execution_count": null,
   "metadata": {
    "scrolled": true
   },
   "outputs": [],
   "source": [
    "purchase_data_1 = purchase_data[[\"SN\"]].groupby(pd.cut(purchase_data[\"Age\"],bins, labels= age_groups)).nunique()\n",
    "purchase_data_1[\"Percentage of Players\"]= (purchase_data_1[\"SN\"]/780)*100\n",
    "\n",
    "purchase_data_1.rename_axis(None).rename (columns ={'SN' : 'Total Count'})"
   ]
  },
  {
   "cell_type": "markdown",
   "metadata": {},
   "source": [
    "## Purchasing Analysis (Age)"
   ]
  },
  {
   "cell_type": "markdown",
   "metadata": {},
   "source": [
    "* Bin the purchase_data data frame by age\n",
    "\n",
    "\n",
    "* Run basic calculations to obtain purchase count, avg. purchase price, avg. purchase total per person etc. in the table below\n",
    "\n",
    "\n",
    "* Create a summary data frame to hold the results\n",
    "\n",
    "\n",
    "* Optional: give the displayed data cleaner formatting\n",
    "\n",
    "\n",
    "* Display the summary data frame"
   ]
  },
  {
   "cell_type": "code",
   "execution_count": null,
   "metadata": {},
   "outputs": [],
   "source": [
    "purchase_data_2 = purchase_data[[\"SN\", \"Price\"]].groupby(pd.cut(purchase_data[\"Age\"],bins, labels= age_groups)).agg({\"SN\":'count',\"Price\":\"sum\"})\n",
    "purchase_data_2[\"Average Purchase Price\"]= (purchase_data_2[\"Price\"]/purchase_data_2[\"SN\"])\n",
    "purchase_data_2[\"Avg Total Purchase per Person\"]=purchase_data_2[\"Price\"]/purchase_data_1[\"SN\"]\n",
    "#purchase_data_2[\"Price\"]= df[\"price\"]\n",
    "\n",
    "purchase_data_2.rename_axis(None).rename (columns ={'SN' : 'Purchase Count', \"Price\": \"Total Purchase Value\" })   \n"
   ]
  },
  {
   "cell_type": "markdown",
   "metadata": {},
   "source": [
    "## Top Spenders"
   ]
  },
  {
   "cell_type": "markdown",
   "metadata": {},
   "source": [
    "* Run basic calculations to obtain the results in the table below\n",
    "\n",
    "\n",
    "* Create a summary data frame to hold the results\n",
    "\n",
    "\n",
    "* Sort the total purchase value column in descending order\n",
    "\n",
    "\n",
    "* Optional: give the displayed data cleaner formatting\n",
    "\n",
    "\n",
    "* Display a preview of the summary data frame\n",
    "\n"
   ]
  },
  {
   "cell_type": "code",
   "execution_count": null,
   "metadata": {
    "scrolled": true
   },
   "outputs": [],
   "source": [
    "ts = df.groupby(\"SN\").agg({\"Item ID\":'count',\"Price\":\"sum\"})\n",
    "ts[\"average\"] = ts[\"Price\"]/ts[\"Item ID\"]\n",
    "ts= ts.rename(columns ={\"Item ID\": \"Purchase Count\", \"Price\" :\"Total Purchase Value\", \"average\": \"Average Purchase Price\"})\n",
    "ts.sort_values(by= \"Total Purchase Value\" ,ascending = False).head(5)\n"
   ]
  },
  {
   "cell_type": "markdown",
   "metadata": {},
   "source": [
    "## Most Popular Items"
   ]
  },
  {
   "cell_type": "markdown",
   "metadata": {},
   "source": [
    "* Retrieve the Item ID, Item Name, and Item Price columns\n",
    "\n",
    "\n",
    "* Group by Item ID and Item Name. Perform calculations to obtain purchase count, item price, and total purchase value\n",
    "\n",
    "\n",
    "* Create a summary data frame to hold the results\n",
    "\n",
    "\n",
    "* Sort the purchase count column in descending order\n",
    "\n",
    "\n",
    "* Optional: give the displayed data cleaner formatting\n",
    "\n",
    "\n",
    "* Display a preview of the summary data frame\n",
    "\n"
   ]
  },
  {
   "cell_type": "code",
   "execution_count": null,
   "metadata": {},
   "outputs": [],
   "source": [
    "popular = df.groupby([\"Item ID\", \"Item Name\"]).agg({\"SN\":'count',\"Price\":\"max\"})\n",
    "popular[\"Total Purchase Value\"] = popular[\"Price\"]*popular[\"SN\"]\n",
    "MP= popular.rename(columns ={\"SN\": \"Purchase Count\", \"Price\" :\"Item Price\",})\n",
    "MP.sort_values(by=\"Purchase Count\" ,ascending=False).head(5)\n"
   ]
  },
  {
   "cell_type": "markdown",
   "metadata": {},
   "source": [
    "## Most Profitable Items"
   ]
  },
  {
   "cell_type": "markdown",
   "metadata": {},
   "source": [
    "* Sort the above table by total purchase value in descending order\n",
    "\n",
    "\n",
    "* Optional: give the displayed data cleaner formatting\n",
    "\n",
    "\n",
    "* Display a preview of the data frame\n",
    "\n"
   ]
  },
  {
   "cell_type": "code",
   "execution_count": null,
   "metadata": {
    "scrolled": true
   },
   "outputs": [],
   "source": [
    "mpi = df.groupby([\"Item ID\", \"Item Name\"]).agg({\"SN\":'count',\"Price\":\"max\"})\n",
    "mpi[\"Total Purchase Value\"] = mpi[\"Price\"]*mpi[\"SN\"]\n",
    "mpi= popular.rename(columns ={\"SN\": \"Purchase Count\", \"Price\" :\"Item Price\",})\n",
    "mpi.sort_values(by=\"Total Purchase Value\" ,ascending=False).head(5)\n",
    "\n"
   ]
  }
 ],
 "metadata": {
  "anaconda-cloud": {},
  "kernel_info": {
   "name": "python3"
  },
  "kernelspec": {
   "display_name": "Python 3",
   "language": "python",
   "name": "python3"
  },
  "language_info": {
   "codemirror_mode": {
    "name": "ipython",
    "version": 3
   },
   "file_extension": ".py",
   "mimetype": "text/x-python",
   "name": "python",
   "nbconvert_exporter": "python",
   "pygments_lexer": "ipython3",
   "version": "3.6.9"
  },
  "latex_envs": {
   "LaTeX_envs_menu_present": true,
   "autoclose": false,
   "autocomplete": true,
   "bibliofile": "biblio.bib",
   "cite_by": "apalike",
   "current_citInitial": 1,
   "eqLabelWithNumbers": true,
   "eqNumInitial": 1,
   "hotkeys": {
    "equation": "Ctrl-E",
    "itemize": "Ctrl-I"
   },
   "labels_anchors": false,
   "latex_user_defs": false,
   "report_style_numbering": false,
   "user_envs_cfg": false
  },
  "nteract": {
   "version": "0.2.0"
  }
 },
 "nbformat": 4,
 "nbformat_minor": 2
}
